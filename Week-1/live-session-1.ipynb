{
 "cells": [
  {
   "cell_type": "markdown",
   "metadata": {},
   "source": [
    "# 1st Live Session Class 21/09/23"
   ]
  },
  {
   "cell_type": "code",
   "execution_count": 1,
   "metadata": {},
   "outputs": [],
   "source": [
    "import numpy as np"
   ]
  },
  {
   "cell_type": "code",
   "execution_count": 7,
   "metadata": {},
   "outputs": [
    {
     "data": {
      "text/plain": [
       "array([1, 2, 3, 4])"
      ]
     },
     "execution_count": 7,
     "metadata": {},
     "output_type": "execute_result"
    }
   ],
   "source": [
    "# Simple numpy array\n",
    "a = np.array([1, 2, 3, 4])\n",
    "a"
   ]
  },
  {
   "cell_type": "code",
   "execution_count": 12,
   "metadata": {},
   "outputs": [
    {
     "data": {
      "text/plain": [
       "(4,)"
      ]
     },
     "execution_count": 12,
     "metadata": {},
     "output_type": "execute_result"
    }
   ],
   "source": [
    "# Array shapes describe the dimensions (order of rows and columns)\n",
    "a.shape"
   ]
  },
  {
   "cell_type": "code",
   "execution_count": 10,
   "metadata": {},
   "outputs": [
    {
     "data": {
      "text/plain": [
       "()"
      ]
     },
     "execution_count": 10,
     "metadata": {},
     "output_type": "execute_result"
    }
   ],
   "source": [
    "# A 0 dimension array as there is only one number\n",
    "b = np.array(42)\n",
    "b.shape"
   ]
  },
  {
   "cell_type": "code",
   "execution_count": 16,
   "metadata": {},
   "outputs": [
    {
     "data": {
      "text/plain": [
       "array([[1, 2, 3],\n",
       "       [4, 5, 6]])"
      ]
     },
     "execution_count": 16,
     "metadata": {},
     "output_type": "execute_result"
    }
   ],
   "source": [
    "# Multi-dimensional array e.g 2-D, 3-D etc.\n",
    "c = np.array([[1, 2, 3], [4, 5, 6]])\n",
    "c"
   ]
  },
  {
   "cell_type": "code",
   "execution_count": 17,
   "metadata": {},
   "outputs": [
    {
     "data": {
      "text/plain": [
       "(2, 3)"
      ]
     },
     "execution_count": 17,
     "metadata": {},
     "output_type": "execute_result"
    }
   ],
   "source": [
    "c.shape"
   ]
  },
  {
   "cell_type": "code",
   "execution_count": 26,
   "metadata": {},
   "outputs": [
    {
     "data": {
      "text/plain": [
       "(3, array(42), 4)"
      ]
     },
     "execution_count": 26,
     "metadata": {},
     "output_type": "execute_result"
    }
   ],
   "source": [
    "# Indexes to access array elements\n",
    "a[2], b, c[1][0] #B has no dimensions so we can't index it. It's basically a single valued variable "
   ]
  },
  {
   "cell_type": "code",
   "execution_count": 30,
   "metadata": {},
   "outputs": [
    {
     "data": {
      "text/plain": [
       "(9,)"
      ]
     },
     "execution_count": 30,
     "metadata": {},
     "output_type": "execute_result"
    }
   ],
   "source": [
    "# We can also reshape numpy arrays to assume a different dimensional shape\n",
    "d = np.array([1, 2, 3, 4, 5, 6, 7, 8, 9])\n",
    "d.shape"
   ]
  },
  {
   "cell_type": "code",
   "execution_count": 32,
   "metadata": {},
   "outputs": [
    {
     "data": {
      "text/plain": [
       "array([[1, 2, 3],\n",
       "       [4, 5, 6],\n",
       "       [7, 8, 9]])"
      ]
     },
     "execution_count": 32,
     "metadata": {},
     "output_type": "execute_result"
    }
   ],
   "source": [
    "d.reshape(3,3)"
   ]
  },
  {
   "cell_type": "code",
   "execution_count": 35,
   "metadata": {},
   "outputs": [
    {
     "data": {
      "text/plain": [
       "array([[1],\n",
       "       [2],\n",
       "       [3],\n",
       "       [4],\n",
       "       [5],\n",
       "       [6],\n",
       "       [7],\n",
       "       [8],\n",
       "       [9]])"
      ]
     },
     "execution_count": 35,
     "metadata": {},
     "output_type": "execute_result"
    }
   ],
   "source": [
    "# When reshaping, you must make sure the numbers of values can fit into the array\n",
    "d.reshape(9,1)"
   ]
  },
  {
   "cell_type": "code",
   "execution_count": 45,
   "metadata": {},
   "outputs": [
    {
     "data": {
      "text/plain": [
       "0.4190398255347094"
      ]
     },
     "execution_count": 45,
     "metadata": {},
     "output_type": "execute_result"
    }
   ],
   "source": [
    "# Accessing random numbers from the numpy library\n",
    "\n",
    "np.random.rand() #Random array from a uniform distribution"
   ]
  },
  {
   "cell_type": "code",
   "execution_count": 46,
   "metadata": {},
   "outputs": [
    {
     "data": {
      "text/plain": [
       "1"
      ]
     },
     "execution_count": 46,
     "metadata": {},
     "output_type": "execute_result"
    }
   ],
   "source": [
    "np.random.randint(13) #Specify the max value in the parentheses"
   ]
  },
  {
   "cell_type": "code",
   "execution_count": 42,
   "metadata": {},
   "outputs": [
    {
     "data": {
      "text/plain": [
       "array([[[-1.23445460e+00,  6.58938392e-02, -2.25021403e-01,\n",
       "          1.28841039e+00, -1.72758883e-02],\n",
       "        [ 3.97931597e-02, -1.41881998e+00,  5.67642457e-01,\n",
       "         -1.02780202e+00, -6.41638557e-02],\n",
       "        [ 2.17524101e+00, -3.94035033e-01,  1.93059526e-01,\n",
       "          1.07214283e-01, -2.74723579e-01],\n",
       "        [-6.06390788e-02,  4.91723252e-01, -9.45328425e-01,\n",
       "         -1.31388168e+00, -1.78867898e+00]],\n",
       "\n",
       "       [[ 8.99235002e-01, -6.34671842e-01,  3.65013889e-02,\n",
       "          9.69051264e-01, -1.55805659e+00],\n",
       "        [ 7.34266469e-01,  1.55790314e+00, -1.26181397e+00,\n",
       "          1.62769966e+00,  8.22805782e-01],\n",
       "        [-9.78005319e-02,  1.06887689e+00, -3.41076397e-01,\n",
       "          1.64201538e-01, -6.01406909e-02],\n",
       "        [ 9.32154327e-01,  3.53298761e-01,  1.81813910e+00,\n",
       "          1.08578494e+00, -1.85427621e+00]],\n",
       "\n",
       "       [[-8.22786861e-02, -1.05927457e+00, -3.83591808e-01,\n",
       "         -9.89931210e-02,  1.49454333e+00],\n",
       "        [ 4.05743805e-01, -3.97884779e-01,  1.08408429e+00,\n",
       "         -3.91448533e-01,  1.89965663e+00],\n",
       "        [ 1.90119845e-01, -7.16682281e-01,  1.39715101e+00,\n",
       "          7.10810140e-04, -2.58046159e-01],\n",
       "        [-1.88982574e-01,  6.90712170e-01,  6.33981013e-01,\n",
       "          2.58972937e-01, -1.38824656e+00]]])"
      ]
     },
     "execution_count": 42,
     "metadata": {},
     "output_type": "execute_result"
    }
   ],
   "source": [
    "np.random.randn(3, 4, 5) #Random array from a normal distribution"
   ]
  },
  {
   "cell_type": "code",
   "execution_count": 47,
   "metadata": {},
   "outputs": [
    {
     "data": {
      "text/plain": [
       "array([6, 5, 4, 6, 4, 5, 4, 6, 5, 4])"
      ]
     },
     "execution_count": 47,
     "metadata": {},
     "output_type": "execute_result"
    }
   ],
   "source": [
    "# A binomial distribution\n",
    "np.random.binomial(n=10, p=0.5, size=10) # 10 values with a max value of 10 and a random probability of 0.5"
   ]
  },
  {
   "cell_type": "code",
   "execution_count": 48,
   "metadata": {},
   "outputs": [
    {
     "data": {
      "text/plain": [
       "array([ 5.18857301,  1.26272867,  0.63025505, -1.54514543, -4.94591415,\n",
       "        2.17583945, -3.16550055,  4.24454952, -3.31764929,  5.62371735])"
      ]
     },
     "execution_count": 48,
     "metadata": {},
     "output_type": "execute_result"
    }
   ],
   "source": [
    "# A normal distribution\n",
    "np.random.normal(loc=2, scale=4, size=10) #Info provided in docstring"
   ]
  },
  {
   "cell_type": "code",
   "execution_count": 50,
   "metadata": {},
   "outputs": [],
   "source": [
    "# Numpy mean function\n",
    "np.mean()"
   ]
  },
  {
   "cell_type": "code",
   "execution_count": 70,
   "metadata": {},
   "outputs": [
    {
     "data": {
      "text/plain": [
       "(array([1, 3, 0, 2, 3, 1, 2, 3, 2]), array([6, 3, 6, 6, 0, 2, 4, 5, 5]))"
      ]
     },
     "execution_count": 70,
     "metadata": {},
     "output_type": "execute_result"
    }
   ],
   "source": [
    "e = np.random.randint(4, size=9)\n",
    "f = np.random.randint(7, size=9)\n",
    "e,f"
   ]
  },
  {
   "cell_type": "code",
   "execution_count": 71,
   "metadata": {},
   "outputs": [
    {
     "data": {
      "text/plain": [
       "array([ 6,  9,  0, 12,  0,  2,  8, 15, 10])"
      ]
     },
     "execution_count": 71,
     "metadata": {},
     "output_type": "execute_result"
    }
   ],
   "source": [
    "np.multiply(e,f)"
   ]
  },
  {
   "cell_type": "code",
   "execution_count": 72,
   "metadata": {},
   "outputs": [
    {
     "data": {
      "text/plain": [
       "array([ 6,  9,  0, 12,  0,  2,  8, 15, 10])"
      ]
     },
     "execution_count": 72,
     "metadata": {},
     "output_type": "execute_result"
    }
   ],
   "source": [
    "e*f"
   ]
  },
  {
   "cell_type": "code",
   "execution_count": 73,
   "metadata": {},
   "outputs": [
    {
     "data": {
      "text/plain": [
       "array([144,  72, 144, 144,   0,  48,  96, 120, 120])"
      ]
     },
     "execution_count": 73,
     "metadata": {},
     "output_type": "execute_result"
    }
   ],
   "source": [
    "f * 24"
   ]
  }
 ],
 "metadata": {
  "kernelspec": {
   "display_name": "Python 3",
   "language": "python",
   "name": "python3"
  },
  "language_info": {
   "codemirror_mode": {
    "name": "ipython",
    "version": 3
   },
   "file_extension": ".py",
   "mimetype": "text/x-python",
   "name": "python",
   "nbconvert_exporter": "python",
   "pygments_lexer": "ipython3",
   "version": "3.11.4"
  },
  "orig_nbformat": 4
 },
 "nbformat": 4,
 "nbformat_minor": 2
}
